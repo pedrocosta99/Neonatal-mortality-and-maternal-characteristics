{
 "cells": [
  {
   "cell_type": "code",
   "execution_count": 1,
   "metadata": {},
   "outputs": [],
   "source": [
    "import pandas as pd\n",
    "import matplotlib.pyplot as plt\n",
    "import seaborn as sns\n",
    "import os\n",
    "import zipfile\n",
    "import os,glob\n",
    "import numpy as np\n",
    "from IPython.display import display\n",
    "pd.options.display.max_columns = None\n",
    "pd.options.display.max_rows = None\n",
    "from collections import defaultdict\n",
    "import collections\n",
    "from functools import reduce\n",
    "%matplotlib inline\n",
    "\n",
    "features = ['n_nu_idade','n_tp_estado_civil','n_tp_escolaridade','n_tp_raca_cor_mae', 'morte_menor_28d', 'year_death']\n"
   ]
  },
  {
   "cell_type": "code",
   "execution_count": 2,
   "metadata": {},
   "outputs": [
    {
     "name": "stdout",
     "output_type": "stream",
     "text": [
      "CPU times: user 11.3 s, sys: 3.76 s, total: 15.1 s\n",
      "Wall time: 15.2 s\n"
     ]
    }
   ],
   "source": [
    "%%time\n",
    "Nordeste = pd.read_csv('/home/vm1/Data/FINAL/Nordeste.csv')\n",
    "Norte = pd.read_csv('/home/vm1/Data/FINAL/Norte.csv')\n",
    "Centro_Oeste = pd.read_csv('/home/vm1/Data/FINAL/Centro_Oeste.csv')\n",
    "Sudeste = pd.read_csv('/home/vm1/Data/FINAL/Sudeste.csv')\n",
    "Sul = pd.read_csv('/home/vm1/Data/FINAL/Sul.csv')\n",
    "BR = pd.concat([Norte, Nordeste, Sul, Sudeste, Centro_Oeste])"
   ]
  },
  {
   "cell_type": "code",
   "execution_count": null,
   "metadata": {},
   "outputs": [],
   "source": []
  },
  {
   "cell_type": "markdown",
   "metadata": {},
   "source": [
    "## Nomeando variáveis\n",
    "\n"
   ]
  },
  {
   "cell_type": "code",
   "execution_count": 3,
   "metadata": {},
   "outputs": [],
   "source": [
    "regioes = [Nordeste, Norte, Sul, Sudeste, Centro_Oeste]"
   ]
  },
  {
   "cell_type": "code",
   "execution_count": 4,
   "metadata": {},
   "outputs": [],
   "source": [
    "def name_cor(x):   # Features de Raça e cor da mãe\n",
    "    if x==1:\n",
    "        return 'Branca'\n",
    "    elif x==2:\n",
    "        return 'Preta/Parda'\n",
    "    elif x==3:\n",
    "        return 'Amarela/Indígena'\n",
    "    \n",
    "ordem_age = ['10-14','15-19','20-24','25-29','30-34','35-39','40-44','45-49','50+']    \n",
    "def name_age(x):\n",
    "    if x==1:\n",
    "        return '10-14'\n",
    "    elif x==2:\n",
    "        return '15-19'\n",
    "    elif x==3:\n",
    "        return '20-24'\n",
    "    elif x==4:\n",
    "        return '25-29'\n",
    "    elif x==5:\n",
    "        return '30-34'\n",
    "    elif x==6:\n",
    "        return '35-39'\n",
    "    elif x==7:\n",
    "        return '40-44'\n",
    "    elif x==8:\n",
    "        return '45-49'\n",
    "    else:\n",
    "        return '50+'\n",
    "    \n",
    "def name_conje(x):\n",
    "    if x==1:\n",
    "        return 'Single'\n",
    "    elif x==2:\n",
    "        return 'Married/Stable union'\n",
    "    elif x==3:\n",
    "        return 'Widowed'\n",
    "    elif x==4:\n",
    "        return 'Divorced'\n",
    "\n",
    "ordem_escolaridade = ['None','1-3','4-7','8-11','12+']\n",
    "def name_estudo_anos(x):\n",
    "    if x==1:\n",
    "        return 'None'\n",
    "    elif x==2:\n",
    "        return '1-3'\n",
    "    elif x==3:\n",
    "        return '4-7'\n",
    "    elif x==4:\n",
    "        return '8-11'\n",
    "    elif x==5:\n",
    "        return '12+'\n",
    "    "
   ]
  },
  {
   "cell_type": "code",
   "execution_count": 5,
   "metadata": {},
   "outputs": [],
   "source": [
    "def label(data):\n",
    "    data['n_nu_idade'] = data['n_nu_idade'].apply(name_age)\n",
    "    data['n_tp_escolaridade'] = data['n_tp_escolaridade'].apply(name_estudo_anos)\n",
    "    data['n_tp_estado_civil'] = data['n_tp_estado_civil'].apply(name_conje)\n",
    "    data['n_tp_raca_cor_mae'] = data['n_tp_raca_cor_mae'].apply(name_cor)"
   ]
  },
  {
   "cell_type": "code",
   "execution_count": 6,
   "metadata": {},
   "outputs": [
    {
     "name": "stdout",
     "output_type": "stream",
     "text": [
      "CPU times: user 25.3 s, sys: 5.82 s, total: 31.1 s\n",
      "Wall time: 31.1 s\n"
     ]
    }
   ],
   "source": [
    "%%time\n",
    "label(BR)"
   ]
  },
  {
   "cell_type": "code",
   "execution_count": 7,
   "metadata": {},
   "outputs": [],
   "source": [
    "data = BR"
   ]
  },
  {
   "cell_type": "code",
   "execution_count": 8,
   "metadata": {},
   "outputs": [],
   "source": [
    "BR_death = data[data.morte_menor_28d == 1]\n",
    "BR_alive = data[data.morte_menor_28d == 0] "
   ]
  },
  {
   "cell_type": "markdown",
   "metadata": {},
   "source": [
    "### Criando dicionários com valores absolutos de nascimentos e mortes e taxas de mort."
   ]
  },
  {
   "cell_type": "code",
   "execution_count": 9,
   "metadata": {},
   "outputs": [],
   "source": [
    "data = BR_death\n",
    "escolaridade_D = data['n_tp_escolaridade'].value_counts()\n",
    "idade_D = data['n_nu_idade'].value_counts()\n",
    "estado_civil_D = data['n_tp_estado_civil'].value_counts()\n",
    "cor_D = data['n_tp_raca_cor_mae'].value_counts()"
   ]
  },
  {
   "cell_type": "code",
   "execution_count": 10,
   "metadata": {},
   "outputs": [],
   "source": [
    "data = BR\n",
    "escolaridade = data['n_tp_escolaridade'].value_counts()\n",
    "idade = data['n_nu_idade'].value_counts()\n",
    "estado_civil = data['n_tp_estado_civil'].value_counts()\n",
    "cor = data['n_tp_raca_cor_mae'].value_counts()"
   ]
  },
  {
   "cell_type": "code",
   "execution_count": 11,
   "metadata": {},
   "outputs": [],
   "source": [
    "escolaridade_tx = (escolaridade_D/escolaridade)*1000\n",
    "idade_tx = (idade_D/idade)*1000\n",
    "estado_civil_tx = (estado_civil_D/estado_civil)*1000\n",
    "cor_tx = (cor_D/cor)*1000"
   ]
  },
  {
   "cell_type": "code",
   "execution_count": 13,
   "metadata": {},
   "outputs": [
    {
     "name": "stdout",
     "output_type": "stream",
     "text": [
      "8-11    50.072608\n",
      "4-7     26.025341\n",
      "12+     16.558310\n",
      "1-3      6.063906\n",
      "None     1.279836\n",
      "Name: n_tp_escolaridade, dtype: float64\n",
      "20-24    27.310718\n",
      "25-29    24.447038\n",
      "15-19    18.782266\n",
      "30-34    17.589833\n",
      "35-39     8.629159\n",
      "40-44     2.154996\n",
      "10-14     0.935276\n",
      "45-49     0.141207\n",
      "50+       0.009506\n",
      "Name: n_nu_idade, dtype: float64\n",
      "Single                  52.136397\n",
      "Married/Stable union    46.643213\n",
      "Divorced                 1.004554\n",
      "Widowed                  0.215835\n",
      "Name: n_tp_estado_civil, dtype: float64\n"
     ]
    }
   ],
   "source": [
    "data = BR\n",
    "l = len(BR)\n",
    "print(escolaridade*100/l)\n",
    "print(idade*100/l)\n",
    "print(estado_civil*100/l)"
   ]
  },
  {
   "cell_type": "code",
   "execution_count": null,
   "metadata": {},
   "outputs": [],
   "source": []
  },
  {
   "cell_type": "code",
   "execution_count": null,
   "metadata": {},
   "outputs": [],
   "source": []
  },
  {
   "cell_type": "code",
   "execution_count": null,
   "metadata": {},
   "outputs": [],
   "source": []
  },
  {
   "cell_type": "code",
   "execution_count": null,
   "metadata": {},
   "outputs": [],
   "source": []
  },
  {
   "cell_type": "code",
   "execution_count": null,
   "metadata": {},
   "outputs": [],
   "source": []
  },
  {
   "cell_type": "code",
   "execution_count": 13,
   "metadata": {},
   "outputs": [
    {
     "name": "stderr",
     "output_type": "stream",
     "text": [
      "No handles with labels found to put in legend.\n"
     ]
    },
    {
     "data": {
      "image/png": "[encoded data removed]",
      "text/plain": [
       "<Figure size 1008x576 with 4 Axes>"
      ]
     },
     "metadata": {
      "needs_background": "light"
     },
     "output_type": "display_data"
    }
   ],
   "source": [
    "fig, ax = plt.subplots(2,2, figsize=(14,8))\n",
    "\n",
    "# precisei usar o index do idade_tx pra não dar erro, sei la porque\n",
    "sns.barplot(idade_tx.index, idade_tx, ax=ax[1,0], order=ordem_age)\n",
    "sns.barplot(escolaridade_tx.index, escolaridade_tx,  ax=ax[0,1], order=ordem_escolaridade)\n",
    "sns.barplot(estado_civil_tx.index, estado_civil_tx, ax=ax[0,0])\n",
    "sns.barplot(cor_tx.index, cor_tx, ax=ax[1,1])\n",
    "\n",
    "ax[0,0].set(ylabel='', title= 'Marital Status')\n",
    "ax[0,1].set(ylabel='', title= 'Education in years')\n",
    "\n",
    "ax[1,0].set(ylabel='', title= 'Age')\n",
    "ax[1,1].set(ylabel='', title= 'Race/Skincolor')\n",
    "\n",
    "fig.suptitle('Neonatal mortality rate by feature', fontsize=22, y=1.06)\n",
    "plt.legend()\n",
    "plt.tight_layout()\n",
    "plt.show()"
   ]
  },
  {
   "cell_type": "code",
   "execution_count": 14,
   "metadata": {},
   "outputs": [
    {
     "name": "stdout",
     "output_type": "stream",
     "text": [
      "CPU times: user 13.8 s, sys: 3.25 s, total: 17 s\n",
      "Wall time: 18 s\n"
     ]
    }
   ],
   "source": [
    "%%time\n",
    "Brasil = pd.read_csv('/home/vm1/Data/Br.csv')"
   ]
  },
  {
   "cell_type": "code",
   "execution_count": 15,
   "metadata": {},
   "outputs": [
    {
     "data": {
      "text/html": [
       "<div>\n",
       "<style scoped>\n",
       "    .dataframe tbody tr th:only-of-type {\n",
       "        vertical-align: middle;\n",
       "    }\n",
       "\n",
       "    .dataframe tbody tr th {\n",
       "        vertical-align: top;\n",
       "    }\n",
       "\n",
       "    .dataframe thead th {\n",
       "        text-align: right;\n",
       "    }\n",
       "</style>\n",
       "<table border=\"1\" class=\"dataframe\">\n",
       "  <thead>\n",
       "    <tr style=\"text-align: right;\">\n",
       "      <th></th>\n",
       "      <th>Unnamed: 0</th>\n",
       "      <th>n_nu_idade</th>\n",
       "      <th>n_tp_estado_civil</th>\n",
       "      <th>n_tp_escolaridade</th>\n",
       "      <th>n_tp_raca_cor_mae</th>\n",
       "      <th>morte_menor_28d</th>\n",
       "      <th>year_birth</th>\n",
       "    </tr>\n",
       "  </thead>\n",
       "  <tbody>\n",
       "    <tr>\n",
       "      <th>0</th>\n",
       "      <td>0</td>\n",
       "      <td>31.0</td>\n",
       "      <td>2.0</td>\n",
       "      <td>3.0</td>\n",
       "      <td>NaN</td>\n",
       "      <td>0.0</td>\n",
       "      <td>2005.0</td>\n",
       "    </tr>\n",
       "    <tr>\n",
       "      <th>1</th>\n",
       "      <td>1</td>\n",
       "      <td>24.0</td>\n",
       "      <td>2.0</td>\n",
       "      <td>2.0</td>\n",
       "      <td>NaN</td>\n",
       "      <td>0.0</td>\n",
       "      <td>2005.0</td>\n",
       "    </tr>\n",
       "    <tr>\n",
       "      <th>2</th>\n",
       "      <td>2</td>\n",
       "      <td>21.0</td>\n",
       "      <td>5.0</td>\n",
       "      <td>2.0</td>\n",
       "      <td>NaN</td>\n",
       "      <td>0.0</td>\n",
       "      <td>2005.0</td>\n",
       "    </tr>\n",
       "    <tr>\n",
       "      <th>3</th>\n",
       "      <td>3</td>\n",
       "      <td>38.0</td>\n",
       "      <td>2.0</td>\n",
       "      <td>3.0</td>\n",
       "      <td>NaN</td>\n",
       "      <td>0.0</td>\n",
       "      <td>2005.0</td>\n",
       "    </tr>\n",
       "    <tr>\n",
       "      <th>4</th>\n",
       "      <td>4</td>\n",
       "      <td>18.0</td>\n",
       "      <td>5.0</td>\n",
       "      <td>3.0</td>\n",
       "      <td>NaN</td>\n",
       "      <td>0.0</td>\n",
       "      <td>2005.0</td>\n",
       "    </tr>\n",
       "  </tbody>\n",
       "</table>\n",
       "</div>"
      ],
      "text/plain": [
       "   Unnamed: 0  n_nu_idade  n_tp_estado_civil  n_tp_escolaridade  \\\n",
       "0           0        31.0                2.0                3.0   \n",
       "1           1        24.0                2.0                2.0   \n",
       "2           2        21.0                5.0                2.0   \n",
       "3           3        38.0                2.0                3.0   \n",
       "4           4        18.0                5.0                3.0   \n",
       "\n",
       "   n_tp_raca_cor_mae  morte_menor_28d  year_birth  \n",
       "0                NaN              0.0      2005.0  \n",
       "1                NaN              0.0      2005.0  \n",
       "2                NaN              0.0      2005.0  \n",
       "3                NaN              0.0      2005.0  \n",
       "4                NaN              0.0      2005.0  "
      ]
     },
     "execution_count": 15,
     "metadata": {},
     "output_type": "execute_result"
    }
   ],
   "source": [
    "Brasil.head()"
   ]
  },
  {
   "cell_type": "code",
   "execution_count": 16,
   "metadata": {},
   "outputs": [
    {
     "data": {
      "text/plain": [
       "5.15486321685086"
      ]
     },
     "execution_count": 16,
     "metadata": {},
     "output_type": "execute_result"
    }
   ],
   "source": [
    "(idade_D['20-24']/idade['20-24'])*1000"
   ]
  },
  {
   "cell_type": "code",
   "execution_count": 17,
   "metadata": {},
   "outputs": [],
   "source": [
    "data = BR"
   ]
  },
  {
   "cell_type": "code",
   "execution_count": 18,
   "metadata": {},
   "outputs": [],
   "source": [
    "escolaridade = data['n_tp_escolaridade'].value_counts()\n",
    "idade = data['n_nu_idade'].value_counts()\n",
    "estado_civil = data['n_tp_estado_civil'].value_counts()\n",
    "cor = data['n_tp_raca_cor_mae'].value_counts()\n",
    "\n",
    "escolaridade_percent = escolaridade/sum(escolaridade)*100\n",
    "idade_percent = idade/sum(idade)*100\n",
    "estado_civil_percent = estado_civil/sum(estado_civil)*100\n",
    "cor_percent = cor/sum(cor)*100\n",
    "\n",
    "feature_count = [escolaridade, idade, estado_civil, cor]"
   ]
  },
  {
   "cell_type": "code",
   "execution_count": 19,
   "metadata": {},
   "outputs": [
    {
     "name": "stderr",
     "output_type": "stream",
     "text": [
      "No handles with labels found to put in legend.\n"
     ]
    },
    {
     "data": {
      "image/png": "[encoded data removed]",
      "text/plain": [
       "<Figure size 1008x576 with 4 Axes>"
      ]
     },
     "metadata": {
      "needs_background": "light"
     },
     "output_type": "display_data"
    }
   ],
   "source": [
    "\n",
    "\n",
    "fig, ax = plt.subplots(2,2, figsize=(14,8))\n",
    "\n",
    "\n",
    "# Colocando escala no y-axis\n",
    "'''\n",
    "import matplotlib.ticker as ticker\n",
    "scale_y = 1e6\n",
    "ticks_y = ticker.FuncFormatter(lambda x, pos: '{0:g}'.format(x/scale_y))\n",
    "ax[0,0].yaxis.set_major_formatter(ticks_y)\n",
    "ax[0,1].yaxis.set_major_formatter(ticks_y)\n",
    "ax[1,1].yaxis.set_major_formatter(ticks_y)\n",
    "ax[1,0].yaxis.set_major_formatter(ticks_y)'''\n",
    "\n",
    "\n",
    "sns.barplot(idade.index, idade_percent, ax=ax[1,0], order=ordem_age)\n",
    "sns.barplot(escolaridade.index, escolaridade_percent,  ax=ax[0,1], order=ordem_escolaridade)\n",
    "sns.barplot(estado_civil.index, estado_civil_percent, ax=ax[0,0])\n",
    "sns.barplot(cor.index, cor_percent, ax=ax[1,1])\n",
    "\n",
    "ax[0,0].set(ylabel='', title= '% Marital Status')\n",
    "ax[0,1].set(ylabel='', title= '% Study in years')\n",
    "\n",
    "ax[1,0].set(ylabel='', title= '% Age')\n",
    "ax[1,1].set(ylabel='', title= '% Raça/cor')\n",
    "\n",
    "fig.suptitle('Features distribution through population', fontsize=22, y=1.06)\n",
    "plt.legend()\n",
    "plt.tight_layout()\n",
    "plt.show()"
   ]
  },
  {
   "cell_type": "code",
   "execution_count": 20,
   "metadata": {},
   "outputs": [
    {
     "name": "stderr",
     "output_type": "stream",
     "text": [
      "No handles with labels found to put in legend.\n"
     ]
    },
    {
     "data": {
      "image/png": "[encoded data removed]",
      "text/plain": [
       "<Figure size 864x720 with 6 Axes>"
      ]
     },
     "metadata": {
      "needs_background": "light"
     },
     "output_type": "display_data"
    }
   ],
   "source": [
    "fig, ax = plt.subplots(3,2, figsize=(12,10))\n",
    "\n",
    "sns.barplot(estado_civil_tx.index, estado_civil_tx, ax=ax[0,0], palette='viridis')\n",
    "sns.barplot(estado_civil.index, estado_civil_percent, ax=ax[0,1], palette='viridis')\n",
    "\n",
    "sns.barplot(escolaridade_tx.index, escolaridade_tx,  ax=ax[1,0], order=ordem_escolaridade, palette='viridis')\n",
    "sns.barplot(escolaridade.index, escolaridade_percent,  ax=ax[1,1], order=ordem_escolaridade, palette='viridis')\n",
    "\n",
    "sns.barplot(idade_tx.index, idade_tx, ax=ax[2,0], order=ordem_age, palette='viridis')\n",
    "sns.barplot(idade.index, idade_percent, ax=ax[2,1], order=ordem_age, palette='viridis')\n",
    "\n",
    "ax[0,0].set(ylabel='', title= 'Marital Status NMR')\n",
    "ax[0,0].set_title('Marital Status NMR', fontsize=18)\n",
    "\n",
    "ax[1,0].set(ylabel='', title= 'Education in years NMR')\n",
    "ax[1,0].set_title('Education in years NMR', fontsize=18)\n",
    "\n",
    "ax[2,0].set(ylabel='', title= 'Age NMR')\n",
    "ax[2,0].set_title('Age NMR', fontsize=18)\n",
    "\n",
    "\n",
    "ax[0,1].set(ylabel='', title= '% Marital Status on population')\n",
    "ax[0,1].set_title('% Marital Status on population', fontsize=18)\n",
    "\n",
    "ax[1,1].set(ylabel='', title= '% Study in years on population')\n",
    "ax[1,1].set_title('% Study in years on population', fontsize=18)\n",
    "\n",
    "ax[2,1].set(ylabel='', title= '% Age on population')\n",
    "ax[2,1].set_title('% Age on population', fontsize=18)\n",
    "\n",
    "\n",
    "\n",
    "fig.suptitle('Neonatal mortality rate by feature \\nand feature distribution through population', fontsize=26, y=1.1)\n",
    "\n",
    "plt.legend()\n",
    "plt.tight_layout()\n",
    "plt.show()"
   ]
  },
  {
   "cell_type": "code",
   "execution_count": null,
   "metadata": {},
   "outputs": [],
   "source": []
  },
  {
   "cell_type": "code",
   "execution_count": null,
   "metadata": {},
   "outputs": [],
   "source": []
  },
  {
   "cell_type": "code",
   "execution_count": 21,
   "metadata": {},
   "outputs": [
    {
     "name": "stdout",
     "output_type": "stream",
     "text": [
      "5.932\n",
      "5.054\n",
      "5.563\n",
      "6.309\n",
      "Single                  5.932547\n",
      "Married/Stable union    5.054380\n",
      "Divorced                5.563478\n",
      "Widowed                 6.309885\n",
      "Name: n_tp_estado_civil, dtype: float64\n"
     ]
    }
   ],
   "source": [
    "for n in estado_civil_tx.values:\n",
    "    print(str(n)[0:5])\n",
    "    \n",
    "print(estado_civil_tx)"
   ]
  },
  {
   "cell_type": "code",
   "execution_count": null,
   "metadata": {},
   "outputs": [],
   "source": []
  },
  {
   "cell_type": "code",
   "execution_count": 22,
   "metadata": {},
   "outputs": [
    {
     "data": {
      "text/plain": [
       "'\\n\\nprint(\\'Medidas tendência dados geral \\n\\',\\n\\n      \\'mean:, \\'\"%.2f\" % mean(BR_raw[\\'n_nu_idade\\'].dropna()), \\n\\n      \\'median\\', median(BR_raw[\\'n_nu_idade\\']),\\n\\n      \\'mode\\', mode(BR_raw[\\'n_nu_idade\\']),\\n\\n     \\'pop std\\', \"%.2f\" % pstdev(BR_raw[\\'n_nu_idade\\'].dropna()))\\n\\n\\u200b\\n\\nprint(\\'Medidas tendência óbito neonatal \\n\\',\\n\\n      \\'mean\\'\"%.2f\" % mean(BR_death[\\'n_nu_idade\\']),\\n\\n      \\'median\\', median(BR_death[\\'n_nu_idade\\']),\\n\\n      \\'mode\\' , mode(BR_death[\\'n_nu_idade\\']),\\n\\n     \\'pop std\\' , \"%.2f\" % pstdev(BR_death[\\'n_nu_idade\\']))\\n\\n    \\n\\n'"
      ]
     },
     "execution_count": 22,
     "metadata": {},
     "output_type": "execute_result"
    }
   ],
   "source": [
    "from statistics import mean, median, mode, pstdev\n",
    "\n",
    "\n",
    "\n",
    "# Precisa calcular separado pra não estourar\n",
    "\n",
    "'''\n",
    "\n",
    "print('Medidas tendência dados geral \\n',\n",
    "\n",
    "      'mean:, '\"%.2f\" % mean(BR_raw['n_nu_idade'].dropna()), \n",
    "\n",
    "      'median', median(BR_raw['n_nu_idade']),\n",
    "\n",
    "      'mode', mode(BR_raw['n_nu_idade']),\n",
    "\n",
    "     'pop std', \"%.2f\" % pstdev(BR_raw['n_nu_idade'].dropna()))\n",
    "\n",
    "​\n",
    "\n",
    "print('Medidas tendência óbito neonatal \\n',\n",
    "\n",
    "      'mean'\"%.2f\" % mean(BR_death['n_nu_idade']),\n",
    "\n",
    "      'median', median(BR_death['n_nu_idade']),\n",
    "\n",
    "      'mode' , mode(BR_death['n_nu_idade']),\n",
    "\n",
    "     'pop std' , \"%.2f\" % pstdev(BR_death['n_nu_idade']))\n",
    "\n",
    "    \n",
    "\n",
    "'''\n",
    "\n"
   ]
  },
  {
   "cell_type": "code",
   "execution_count": 23,
   "metadata": {},
   "outputs": [],
   "source": [
    "BR_death = Brasil[Brasil.morte_menor_28d == 1]\n",
    "BR_alive = Brasil[Brasil.morte_menor_28d == 0] "
   ]
  },
  {
   "cell_type": "code",
   "execution_count": 24,
   "metadata": {},
   "outputs": [
    {
     "data": {
      "image/png": "[encoded data removed]",
      "text/plain": [
       "<Figure size 432x360 with 2 Axes>"
      ]
     },
     "metadata": {
      "needs_background": "light"
     },
     "output_type": "display_data"
    }
   ],
   "source": [
    "'n_nu_idade'  'morte_menor_28d'\n",
    "'data_raw'\n",
    "\n",
    "fig, ax = plt.subplots(1,2,figsize=(6,5))\n",
    "\n",
    "ax[1].set_ylim([0,68])\n",
    "ax[0].set_ylim([0,68])\n",
    "\n",
    "measures_BR = ['mean = 25.7','median = 22','mode = 20','std = 6.55']\n",
    "measures_BR_death = ['mean = 25.5','median = 24','mode = 19','std = 7.1']\n",
    "\n",
    "sns.set(style=\"whitegrid\")\n",
    "\n",
    "sns.boxplot(x=BR_alive['n_nu_idade'] ,ax=ax[0], orient='v', fliersize=0)\n",
    "sns.boxplot(x=BR_death['n_nu_idade'] ,ax=ax[1], orient='v', fliersize=0)\n",
    "\n",
    "ax[0].set_title('Mother\\'s age:\\n population', y=1.00, fontsize=14)\n",
    "ax[1].set_title('Mother\\'s age:\\n neonatal death', y=1.00, fontsize=14)\n",
    "ax[0].set_ylabel('')\n",
    "ax[1].set_ylabel('')\n",
    "\n",
    "\\\n",
    "\n",
    "from matplotlib.lines import Line2D\n",
    "\n",
    "'''handle_1 = [Line2D([0], [0], marker='o', color='w', label='Scatter',\n",
    "                          markerfacecolor='b', markersize=5),\n",
    "            Line2D([0], [0], marker='o', color='w', label='Scatter',\n",
    "                          markerfacecolor='b', markersize=5),\n",
    "            Line2D([0], [0], marker='o', color='w', label='Scatter',\n",
    "                          markerfacecolor='b', markersize=5)]'''\n",
    "\n",
    "\n",
    "\n",
    "'''fig.legend(measures2,loc =(.32,.8))\n",
    "fig.legend(measures1,loc =(.82,.8))'''\n",
    "\n",
    "x1, x2 = .3 , .78\n",
    "y1 = .88\n",
    "yadd = .05\n",
    "\n",
    "plt.figtext(x1, y1-yadd, measures_BR[0])\n",
    "plt.figtext(x1, y1-yadd*2, measures_BR[1])\n",
    "plt.figtext(x1, y1-yadd*3, measures_BR[2])\n",
    "plt.figtext(x1, y1-yadd*4, measures_BR[3])\n",
    "plt.figtext(x2, y1-yadd, measures_BR_death[0])\n",
    "plt.figtext(x2, y1-yadd*2, measures_BR_death[1])\n",
    "plt.figtext(x2, y1-yadd*3, measures_BR_death[2])\n",
    "plt.figtext(x2, y1-yadd*4, measures_BR_death[3])\n",
    "\n",
    "\n",
    "\n",
    "\n",
    "plt.tight_layout()\n",
    "plt.show()"
   ]
  },
  {
   "cell_type": "code",
   "execution_count": null,
   "metadata": {},
   "outputs": [],
   "source": []
  },
  {
   "cell_type": "code",
   "execution_count": null,
   "metadata": {},
   "outputs": [],
   "source": []
  },
  {
   "cell_type": "code",
   "execution_count": 32,
   "metadata": {},
   "outputs": [],
   "source": []
  },
  {
   "cell_type": "code",
   "execution_count": null,
   "metadata": {},
   "outputs": [],
   "source": []
  },
  {
   "cell_type": "code",
   "execution_count": null,
   "metadata": {},
   "outputs": [],
   "source": []
  }
 ],
 "metadata": {
  "kernelspec": {
   "display_name": "Python 3",
   "language": "python",
   "name": "python3"
  },
  "language_info": {
   "codemirror_mode": {
    "name": "ipython",
    "version": 3
   },
   "file_extension": ".py",
   "mimetype": "text/x-python",
   "name": "python",
   "nbconvert_exporter": "python",
   "pygments_lexer": "ipython3",
   "version": "3.6.8"
  }
 },
 "nbformat": 4,
 "nbformat_minor": 2
}
