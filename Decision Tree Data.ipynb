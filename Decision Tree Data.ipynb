{
 "cells": [
  {
   "cell_type": "markdown",
   "metadata": {},
   "source": [
    "# Notebook pra gerar os dados das decision trees"
   ]
  },
  {
   "cell_type": "code",
   "execution_count": 1,
   "metadata": {},
   "outputs": [],
   "source": [
    "import pandas as pd\n",
    "import matplotlib.pyplot as plt\n",
    "import seaborn as sns\n",
    "import zipfile\n",
    "import os,glob\n",
    "import numpy as np\n",
    "from IPython.display import display\n",
    "pd.options.display.max_columns = None\n",
    "pd.options.display.max_rows = None\n",
    "from collections import defaultdict\n",
    "import collections\n",
    "%matplotlib inline\n",
    "\n",
    "features = ['n_nu_idade','n_tp_estado_civil','n_tp_escolaridade','n_tp_raca_cor_mae', 'morte_menor_28d', 'year_death']\n"
   ]
  },
  {
   "cell_type": "code",
   "execution_count": 2,
   "metadata": {},
   "outputs": [
    {
     "name": "stdout",
     "output_type": "stream",
     "text": [
      "CPU times: user 11.6 s, sys: 5.56 s, total: 17.1 s\n",
      "Wall time: 17.1 s\n"
     ]
    }
   ],
   "source": [
    "%%time\n",
    "Nordeste = pd.read_csv('/home/vm1/Data/FINAL/Nordeste.csv')\n",
    "Norte = pd.read_csv('/home/vm1/Data/FINAL/Norte.csv')\n",
    "Centro_Oeste = pd.read_csv('/home/vm1/Data/FINAL/Centro_Oeste.csv')\n",
    "Sudeste = pd.read_csv('/home/vm1/Data/FINAL/Sudeste.csv')\n",
    "Sul = pd.read_csv('/home/vm1/Data/FINAL/Sul.csv')\n",
    "BR = pd.concat([Norte, Nordeste, Sul, Sudeste, Centro_Oeste])"
   ]
  },
  {
   "cell_type": "code",
   "execution_count": 3,
   "metadata": {},
   "outputs": [],
   "source": [
    "data = BR\n",
    "BR_death = data[data.morte_menor_28d == 1]\n",
    "BR_alive = data[data.morte_menor_28d == 0] "
   ]
  },
  {
   "cell_type": "code",
   "execution_count": null,
   "metadata": {},
   "outputs": [],
   "source": []
  },
  {
   "cell_type": "code",
   "execution_count": 4,
   "metadata": {
    "scrolled": true
   },
   "outputs": [
    {
     "name": "stdout",
     "output_type": "stream",
     "text": [
      "<class 'pandas.core.frame.DataFrame'>\n",
      "Int64Index: 29737962 entries, 0 to 2414584\n",
      "Data columns (total 6 columns):\n",
      "n_nu_idade           float64\n",
      "n_tp_estado_civil    float64\n",
      "n_tp_escolaridade    float64\n",
      "n_tp_raca_cor_mae    float64\n",
      "morte_menor_28d      float64\n",
      "year_birth           float64\n",
      "dtypes: float64(6)\n",
      "memory usage: 1.6 GB\n"
     ]
    }
   ],
   "source": [
    "BR.info()"
   ]
  },
  {
   "cell_type": "code",
   "execution_count": 5,
   "metadata": {},
   "outputs": [],
   "source": [
    "def name_age(x):\n",
    "    if x<3:\n",
    "        return '10-19'\n",
    "    elif x>6:\n",
    "        return '35+'\n",
    "    else:\n",
    "        return '20-34'\n",
    "    \n",
    "def name_conje(x):\n",
    "    if x==2:\n",
    "        return 'Married'\n",
    "    else:\n",
    "        return 'Unmarried'\n",
    "\n",
    "def name_estudo_anos(x):\n",
    "    if x==1:\n",
    "        return 'None'\n",
    "    elif x==5:\n",
    "        return '12+'\n",
    "    else:\n",
    "        return '1-11'\n",
    "    "
   ]
  },
  {
   "cell_type": "code",
   "execution_count": 6,
   "metadata": {},
   "outputs": [],
   "source": [
    "def label(data):\n",
    "    data['n_nu_idade'] = data['n_nu_idade'].apply(name_age)\n",
    "    data['n_tp_escolaridade'] = data['n_tp_escolaridade'].apply(name_estudo_anos)\n",
    "    data['n_tp_estado_civil'] = data['n_tp_estado_civil'].apply(name_conje)"
   ]
  },
  {
   "cell_type": "code",
   "execution_count": 7,
   "metadata": {},
   "outputs": [
    {
     "name": "stdout",
     "output_type": "stream",
     "text": [
      "CPU times: user 17 s, sys: 4.7 s, total: 21.7 s\n",
      "Wall time: 21.7 s\n"
     ]
    }
   ],
   "source": [
    "%%time\n",
    "label(BR)"
   ]
  },
  {
   "cell_type": "code",
   "execution_count": 8,
   "metadata": {},
   "outputs": [],
   "source": [
    "data = BR\n",
    "BR_death = data[data.morte_menor_28d == 1]\n",
    "BR_alive = data[data.morte_menor_28d == 0] "
   ]
  },
  {
   "cell_type": "code",
   "execution_count": 9,
   "metadata": {},
   "outputs": [],
   "source": [
    "data = BR\n",
    "escolaridade = data['n_tp_escolaridade'].value_counts()\n",
    "idade = data['n_nu_idade'].value_counts()\n",
    "estado_civil = data['n_tp_estado_civil'].value_counts()"
   ]
  },
  {
   "cell_type": "code",
   "execution_count": 10,
   "metadata": {},
   "outputs": [],
   "source": [
    "data = BR_death\n",
    "escolaridade_D = data['n_tp_escolaridade'].value_counts()\n",
    "idade_D = data['n_nu_idade'].value_counts()\n",
    "estado_civil_D = data['n_tp_estado_civil'].value_counts()"
   ]
  },
  {
   "cell_type": "code",
   "execution_count": 11,
   "metadata": {},
   "outputs": [
    {
     "name": "stdout",
     "output_type": "stream",
     "text": [
      "NMR:   5.550688824066513\n"
     ]
    }
   ],
   "source": [
    "escolaridade_tx = (escolaridade_D/escolaridade)*1000\n",
    "idade_tx = (idade_D/idade)*1000\n",
    "estado_civil_tx = (estado_civil_D/estado_civil)*1000\n",
    "\n",
    "print('NMR:  ', (len(BR_death)/len(BR_alive))*1000)"
   ]
  },
  {
   "cell_type": "code",
   "execution_count": 12,
   "metadata": {},
   "outputs": [
    {
     "name": "stdout",
     "output_type": "stream",
     "text": [
      "1-11    0.821619\n",
      "12+     0.165583\n",
      "None    0.012798\n",
      "Name: n_tp_escolaridade, dtype: float64\n",
      "20-34    0.779767\n",
      "10-19    0.197175\n",
      "35+      0.023057\n",
      "Name: n_nu_idade, dtype: float64\n",
      "Unmarried    0.533568\n",
      "Married      0.466432\n",
      "Name: n_tp_estado_civil, dtype: float64\n"
     ]
    }
   ],
   "source": [
    "data = BR\n",
    "l = len(BR)\n",
    "print(escolaridade/l)\n",
    "print(idade/l)\n",
    "print(estado_civil/l)"
   ]
  },
  {
   "cell_type": "code",
   "execution_count": null,
   "metadata": {},
   "outputs": [],
   "source": []
  },
  {
   "cell_type": "code",
   "execution_count": 13,
   "metadata": {},
   "outputs": [
    {
     "data": {
      "text/plain": [
       "1-11    5.707629\n",
       "12+     4.481424\n",
       "None    6.915451\n",
       "Name: n_tp_escolaridade, dtype: float64"
      ]
     },
     "execution_count": 13,
     "metadata": {},
     "output_type": "execute_result"
    }
   ],
   "source": [
    "escolaridade_tx"
   ]
  },
  {
   "cell_type": "code",
   "execution_count": 14,
   "metadata": {},
   "outputs": [
    {
     "data": {
      "text/plain": [
       "20-34    5.139703\n",
       "10-19    6.711071\n",
       "35+      8.197809\n",
       "Name: n_nu_idade, dtype: float64"
      ]
     },
     "execution_count": 14,
     "metadata": {},
     "output_type": "execute_result"
    }
   ],
   "source": [
    "idade_tx"
   ]
  },
  {
   "cell_type": "code",
   "execution_count": 15,
   "metadata": {},
   "outputs": [
    {
     "data": {
      "text/plain": [
       "Unmarried    5.927125\n",
       "Married      5.054380\n",
       "Name: n_tp_estado_civil, dtype: float64"
      ]
     },
     "execution_count": 15,
     "metadata": {},
     "output_type": "execute_result"
    }
   ],
   "source": [
    "estado_civil_tx"
   ]
  },
  {
   "cell_type": "code",
   "execution_count": 16,
   "metadata": {},
   "outputs": [
    {
     "data": {
      "text/plain": [
       "{'20-34': 5.139702551622567,\n",
       " '10-19': 6.711070597474758,\n",
       " '35+': 8.197809153369473}"
      ]
     },
     "execution_count": 16,
     "metadata": {},
     "output_type": "execute_result"
    }
   ],
   "source": [
    "dict(idade_tx)"
   ]
  },
  {
   "cell_type": "code",
   "execution_count": 17,
   "metadata": {},
   "outputs": [],
   "source": [
    "age = [k for k in dict(idade_tx).keys()]\n",
    "civil = [k for k in dict(estado_civil_tx).keys()]\n",
    "study = [k for k in dict(escolaridade_tx).keys()]"
   ]
  },
  {
   "cell_type": "code",
   "execution_count": 18,
   "metadata": {},
   "outputs": [
    {
     "data": {
      "text/plain": [
       "['Unmarried', 'Married']"
      ]
     },
     "execution_count": 18,
     "metadata": {},
     "output_type": "execute_result"
    }
   ],
   "source": [
    "civil"
   ]
  },
  {
   "cell_type": "code",
   "execution_count": 19,
   "metadata": {},
   "outputs": [],
   "source": [
    "data = BR[BR.n_tp_estado_civil == civil[0]]"
   ]
  },
  {
   "cell_type": "code",
   "execution_count": 20,
   "metadata": {},
   "outputs": [],
   "source": [
    "BR_death = data[data.morte_menor_28d == 1]\n",
    "BR_alive = data[data.morte_menor_28d == 0]"
   ]
  },
  {
   "cell_type": "code",
   "execution_count": null,
   "metadata": {},
   "outputs": [],
   "source": []
  },
  {
   "cell_type": "code",
   "execution_count": 21,
   "metadata": {},
   "outputs": [],
   "source": [
    "escolaridade = data['n_tp_escolaridade'].value_counts()\n",
    "idade = data['n_nu_idade'].value_counts()\n",
    "#estado_civil = data['n_tp_estado_civil'].value_counts()\n",
    "    \n",
    "data = BR_death\n",
    "escolaridade_D = data['n_tp_escolaridade'].value_counts()\n",
    "idade_D = data['n_nu_idade'].value_counts()\n",
    "#estado_civil_D = data['n_tp_estado_civil'].value_counts()\n",
    "    \n",
    "escolaridade_tx = (escolaridade_D/escolaridade)*1000\n",
    "idade_tx = (idade_D/idade)*1000\n",
    "#estado_civil_tx = (estado_civil_D/estado_civil)*1000"
   ]
  },
  {
   "cell_type": "code",
   "execution_count": 22,
   "metadata": {},
   "outputs": [
    {
     "name": "stdout",
     "output_type": "stream",
     "text": [
      "Given civil == unmarried\n",
      "1-11    6.000678\n",
      "12+     5.163066\n",
      "None    6.635566\n",
      "Name: n_tp_escolaridade, dtype: float64\n",
      "20-34    5.498992\n",
      "10-19    6.860900\n",
      "35+      8.636620\n",
      "Name: n_nu_idade, dtype: float64\n"
     ]
    }
   ],
   "source": [
    "print('Given civil == unmarried')\n",
    "print(escolaridade_tx)\n",
    "print(idade_tx)\n",
    "#print(estado_civil_tx)"
   ]
  },
  {
   "cell_type": "code",
   "execution_count": 23,
   "metadata": {},
   "outputs": [
    {
     "data": {
      "text/plain": [
       "29737962"
      ]
     },
     "execution_count": 23,
     "metadata": {},
     "output_type": "execute_result"
    }
   ],
   "source": [
    "l"
   ]
  },
  {
   "cell_type": "code",
   "execution_count": 24,
   "metadata": {},
   "outputs": [
    {
     "name": "stdout",
     "output_type": "stream",
     "text": [
      "1-11    47.177345\n",
      "12+      5.329588\n",
      "None     0.849853\n",
      "Name: n_tp_escolaridade, dtype: float64\n",
      "20-34    37.798232\n",
      "10-19    14.626830\n",
      "35+       0.931725\n",
      "Name: n_nu_idade, dtype: float64\n",
      "Unmarried    53.356787\n",
      "Married      46.643213\n",
      "Name: n_tp_estado_civil, dtype: float64\n"
     ]
    }
   ],
   "source": [
    "data = BR\n",
    "l = len(BR)\n",
    "print(escolaridade*100/l)\n",
    "print(idade*100/l)\n",
    "print(estado_civil*100/l)"
   ]
  },
  {
   "cell_type": "code",
   "execution_count": null,
   "metadata": {},
   "outputs": [],
   "source": []
  },
  {
   "cell_type": "code",
   "execution_count": null,
   "metadata": {},
   "outputs": [],
   "source": []
  },
  {
   "cell_type": "code",
   "execution_count": 25,
   "metadata": {},
   "outputs": [
    {
     "ename": "SyntaxError",
     "evalue": "EOF while scanning triple-quoted string literal (<ipython-input-25-c6c55ca52b6b>, line 23)",
     "output_type": "error",
     "traceback": [
      "\u001b[0;36m  File \u001b[0;32m\"<ipython-input-25-c6c55ca52b6b>\"\u001b[0;36m, line \u001b[0;32m23\u001b[0m\n\u001b[0;31m    print(estado_civil_tx)\u001b[0m\n\u001b[0m                          \n^\u001b[0m\n\u001b[0;31mSyntaxError\u001b[0m\u001b[0;31m:\u001b[0m EOF while scanning triple-quoted string literal\n"
     ]
    }
   ],
   "source": [
    "'''for ft in age:\n",
    "    data = BR[BR.n_nu_idade == ft]\n",
    "    \n",
    "    BR_death = data[data.morte_menor_28d == 1]\n",
    "    BR_alive = data[data.morte_menor_28d == 0]\n",
    "    \n",
    "    escolaridade = data['n_tp_escolaridade'].value_counts()\n",
    "    #idade = data['n_nu_idade'].value_counts()\n",
    "    estado_civil = data['n_tp_estado_civil'].value_counts()\n",
    "    \n",
    "    data = BR_death\n",
    "    escolaridade_D = data['n_tp_escolaridade'].value_counts()\n",
    "    #idade_D = data['n_nu_idade'].value_counts()\n",
    "    estado_civil_D = data['n_tp_estado_civil'].value_counts()\n",
    "    \n",
    "    escolaridade_tx = (escolaridade_D/escolaridade)*1000\n",
    "    #idade_tx = (idade_D/idade)*1000\n",
    "    estado_civil_tx = (estado_civil_D/estado_civil)*1000\n",
    "    \n",
    "    print('\\n',ft,'\\n')\n",
    "    print(escolaridade_tx)\n",
    "    #print(idade_tx)\n",
    "    print(estado_civil_tx)"
   ]
  }
 ],
 "metadata": {
  "kernelspec": {
   "display_name": "Python 3",
   "language": "python",
   "name": "python3"
  },
  "language_info": {
   "codemirror_mode": {
    "name": "ipython",
    "version": 3
   },
   "file_extension": ".py",
   "mimetype": "text/x-python",
   "name": "python",
   "nbconvert_exporter": "python",
   "pygments_lexer": "ipython3",
   "version": "3.6.8"
  }
 },
 "nbformat": 4,
 "nbformat_minor": 2
}
